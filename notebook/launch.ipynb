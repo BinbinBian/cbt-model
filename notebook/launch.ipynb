{
 "cells": [
  {
   "cell_type": "code",
   "execution_count": null,
   "metadata": {
    "collapsed": true
   },
   "outputs": [],
   "source": [
    "!cl run :data :cbtest :run_sliding_window.py \"datadir=data/ task=p python run_sliding_window.py\""
   ]
  },
  {
   "cell_type": "code",
   "execution_count": 3,
   "metadata": {
    "collapsed": false
   },
   "outputs": [
    {
     "name": "stdout",
     "output_type": "stream",
     "text": [
      "Switched to worksheet http://localhost:12800::cbtest(0x80491c5360374a5193b790c821627857).\r\n"
     ]
    }
   ],
   "source": [
    "!cl work nlp::cbtest"
   ]
  },
  {
   "cell_type": "code",
   "execution_count": 4,
   "metadata": {
    "collapsed": false
   },
   "outputs": [
    {
     "name": "stdout",
     "output_type": "stream",
     "text": [
      "0x94400e43a1fd487dab17c3ea8eecfa83\r\n"
     ]
    }
   ],
   "source": [
    "!cl run :data :cbtest :run_embed_bow.py \"datadir=data/ task=p python run_embed_bow.py\""
   ]
  },
  {
   "cell_type": "code",
   "execution_count": 6,
   "metadata": {
    "collapsed": false
   },
   "outputs": [
    {
     "name": "stdout",
     "output_type": "stream",
     "text": [
      "https://codalab.stanford.edu/bundles/0x94400e43a1fd487dab17c3ea8eecfa83\r\n"
     ]
    }
   ],
   "source": [
    "!echo 0x94400e43a1fd487dab17c3ea8eecfa83 | ./makelink"
   ]
  },
  {
   "cell_type": "code",
   "execution_count": 7,
   "metadata": {
    "collapsed": false
   },
   "outputs": [
    {
     "name": "stdout",
     "output_type": "stream",
     "text": [
      "https://codalab.stanford.edu/bundles/0xbf20598a8e024da1a1c82e8851f62a98\r\n"
     ]
    }
   ],
   "source": [
    "!cl run :data :cbtest :run_embed_bow.py \"datadir=data/ task=cn python run_embed_bow.py\" | ./makelink"
   ]
  },
  {
   "cell_type": "code",
   "execution_count": 8,
   "metadata": {
    "collapsed": false
   },
   "outputs": [
    {
     "name": "stdout",
     "output_type": "stream",
     "text": [
      "https://codalab.stanford.edu/bundles/0x0c24a393a9954ed1b88235d5947ffc1c\r\n"
     ]
    }
   ],
   "source": [
    "!cl run :data :cbtest :run_embed_bow.py \"datadir=data/ task=ne python run_embed_bow.py\" | ./makelink"
   ]
  },
  {
   "cell_type": "code",
   "execution_count": 9,
   "metadata": {
    "collapsed": false
   },
   "outputs": [
    {
     "name": "stdout",
     "output_type": "stream",
     "text": [
      "https://codalab.stanford.edu/bundles/0xd03f323fd42843cd8331b3af79e5a020\r\n"
     ]
    }
   ],
   "source": [
    "!cl run :data :cbtest :run_embed_bow.py \"datadir=data/ task=v python run_embed_bow.py\" | ./makelink"
   ]
  },
  {
   "cell_type": "code",
   "execution_count": null,
   "metadata": {
    "collapsed": true
   },
   "outputs": [],
   "source": []
  }
 ],
 "metadata": {
  "kernelspec": {
   "display_name": "Python 2",
   "language": "python",
   "name": "python2"
  },
  "language_info": {
   "codemirror_mode": {
    "name": "ipython",
    "version": 2
   },
   "file_extension": ".py",
   "mimetype": "text/x-python",
   "name": "python",
   "nbconvert_exporter": "python",
   "pygments_lexer": "ipython2",
   "version": "2.7.10"
  }
 },
 "nbformat": 4,
 "nbformat_minor": 0
}
