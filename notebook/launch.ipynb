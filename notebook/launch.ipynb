{
 "cells": [
  {
   "cell_type": "code",
   "execution_count": 49,
   "metadata": {
    "collapsed": false
   },
   "outputs": [
    {
     "name": "stdout",
     "output_type": "stream",
     "text": [
      "Switched to worksheet http://localhost:12800::cbtest(0x80491c5360374a5193b790c821627857).\n",
      "Uploading /Users/tianlins/Project/booktroll/cbt-model/cbtest to http://localhost:12800: 40k [done]\n",
      "0x4666e3120df0493b98d6e0d8b87bfc89\n",
      "Uploading /Users/tianlins/Project/booktroll/cbt-model/notebook/script to http://localhost:12800: 10k [done]\n",
      "0xe6ba0d77f76a46ccb18a79691801fa80\n"
     ]
    }
   ],
   "source": [
    "!./sync.sh"
   ]
  },
  {
   "cell_type": "code",
   "execution_count": null,
   "metadata": {
    "collapsed": true
   },
   "outputs": [],
   "source": [
    "!cl run :data :cbtest :run_sliding_window.py \"datadir=data/ task=p python run_sliding_window.py\""
   ]
  },
  {
   "cell_type": "code",
   "execution_count": 3,
   "metadata": {
    "collapsed": false
   },
   "outputs": [
    {
     "name": "stdout",
     "output_type": "stream",
     "text": [
      "Switched to worksheet http://localhost:12800::cbtest(0x80491c5360374a5193b790c821627857).\r\n"
     ]
    }
   ],
   "source": [
    "!cl work nlp::cbtest"
   ]
  },
  {
   "cell_type": "code",
   "execution_count": 4,
   "metadata": {
    "collapsed": false
   },
   "outputs": [
    {
     "name": "stdout",
     "output_type": "stream",
     "text": [
      "0x94400e43a1fd487dab17c3ea8eecfa83\r\n"
     ]
    }
   ],
   "source": [
    "!cl run :data :cbtest :run_embed_bow.py \"datadir=data/ task=p python run_embed_bow.py\""
   ]
  },
  {
   "cell_type": "code",
   "execution_count": 6,
   "metadata": {
    "collapsed": false
   },
   "outputs": [
    {
     "name": "stdout",
     "output_type": "stream",
     "text": [
      "https://codalab.stanford.edu/bundles/0x94400e43a1fd487dab17c3ea8eecfa83\r\n"
     ]
    }
   ],
   "source": [
    "!echo 0x94400e43a1fd487dab17c3ea8eecfa83 | ./makelink"
   ]
  },
  {
   "cell_type": "markdown",
   "metadata": {},
   "source": [
    "## Direct Word Embedding + BOW"
   ]
  },
  {
   "cell_type": "code",
   "execution_count": 26,
   "metadata": {
    "collapsed": false
   },
   "outputs": [
    {
     "name": "stdout",
     "output_type": "stream",
     "text": [
      "https://codalab.stanford.edu/bundles/0x25ba24d0ab934a008af827405cd62587\r\n"
     ]
    }
   ],
   "source": [
    "!./launch.sh \"THEANO_FLAGS=floatX=float32 datadir=data/ python run_embed_bow.py --task cn\""
   ]
  },
  {
   "cell_type": "code",
   "execution_count": 29,
   "metadata": {
    "collapsed": false
   },
   "outputs": [
    {
     "name": "stdout",
     "output_type": "stream",
     "text": [
      "https://codalab.stanford.edu/bundles/0x4fcb911c13a847028427291465dd128b\r\n"
     ]
    }
   ],
   "source": [
    "!./launch.sh \"THEANO_FLAGS=floatX=float32 datadir=data/ python run_embed_bow.py --task cn --lr 1e-3\""
   ]
  },
  {
   "cell_type": "code",
   "execution_count": 30,
   "metadata": {
    "collapsed": false
   },
   "outputs": [
    {
     "name": "stdout",
     "output_type": "stream",
     "text": [
      "https://codalab.stanford.edu/bundles/0x1474dbe3ab454c98838f056be503c19d\r\n"
     ]
    }
   ],
   "source": [
    "!./launch.sh \"THEANO_FLAGS=floatX=float32 datadir=data/ python run_embed_bow.py --task cn --lr 1e-5\""
   ]
  },
  {
   "cell_type": "code",
   "execution_count": 35,
   "metadata": {
    "collapsed": false
   },
   "outputs": [
    {
     "name": "stdout",
     "output_type": "stream",
     "text": [
      "https://codalab.stanford.edu/bundles/0x3895eb0eb1cd4b36abd27fa85f68432b\r\n"
     ]
    }
   ],
   "source": [
    "!./launch.sh \"datadir=data/ task=ne python run_embed_bow.py --task ne --lr 1e-4\""
   ]
  },
  {
   "cell_type": "code",
   "execution_count": 36,
   "metadata": {
    "collapsed": false
   },
   "outputs": [
    {
     "name": "stdout",
     "output_type": "stream",
     "text": [
      "https://codalab.stanford.edu/bundles/0x3767ffa0b31a40c79e9d7f12314f73a1\r\n"
     ]
    }
   ],
   "source": [
    "!./launch.sh \"datadir=data/ python run_embed_bow.py --task p --lr 1e-4\""
   ]
  },
  {
   "cell_type": "code",
   "execution_count": 37,
   "metadata": {
    "collapsed": false
   },
   "outputs": [
    {
     "name": "stdout",
     "output_type": "stream",
     "text": [
      "https://codalab.stanford.edu/bundles/0x2646128891794a62a612883fef22150e\r\n"
     ]
    }
   ],
   "source": [
    "!./launch.sh \"datadir=data/ python run_embed_bow.py --task v --lr 1e-4\""
   ]
  },
  {
   "cell_type": "markdown",
   "metadata": {},
   "source": [
    "## LSTM Embedding"
   ]
  },
  {
   "cell_type": "code",
   "execution_count": 32,
   "metadata": {
    "collapsed": false
   },
   "outputs": [
    {
     "name": "stdout",
     "output_type": "stream",
     "text": [
      "https://codalab.stanford.edu/bundles/0xba394e7d397b4c96807878a10b6ffbb1\r\n"
     ]
    }
   ],
   "source": [
    "!./launch.sh \"THEANO_FLAGS=floatX=float32 datadir=data/ python run_embed_lstm.py --task cn --lr 1e-3\""
   ]
  },
  {
   "cell_type": "code",
   "execution_count": 33,
   "metadata": {
    "collapsed": false
   },
   "outputs": [
    {
     "name": "stdout",
     "output_type": "stream",
     "text": [
      "https://codalab.stanford.edu/bundles/0xcbbac9b54f084afd9be0856d4708d930\r\n"
     ]
    }
   ],
   "source": [
    "!./launch.sh \"THEANO_FLAGS=floatX=float32 datadir=data/ python run_embed_lstm.py --task cn --lr 1e-4\""
   ]
  },
  {
   "cell_type": "code",
   "execution_count": 34,
   "metadata": {
    "collapsed": false
   },
   "outputs": [
    {
     "name": "stdout",
     "output_type": "stream",
     "text": [
      "https://codalab.stanford.edu/bundles/0x4501fbd1df3b4b559f0fd76f0c3255cd\r\n"
     ]
    }
   ],
   "source": [
    "!./launch.sh \"THEANO_FLAGS=floatX=float32 datadir=data/ python run_embed_lstm.py --task cn --lr 1e-5\""
   ]
  },
  {
   "cell_type": "code",
   "execution_count": 38,
   "metadata": {
    "collapsed": false
   },
   "outputs": [
    {
     "name": "stdout",
     "output_type": "stream",
     "text": [
      "https://codalab.stanford.edu/bundles/0x6405d74dc9fc4ff288f08776932013cd\r\n"
     ]
    }
   ],
   "source": [
    "!./launch.sh \"datadir=data/ python run_embed_lstm.py --task ne --lr 1e-4\""
   ]
  },
  {
   "cell_type": "code",
   "execution_count": 39,
   "metadata": {
    "collapsed": false
   },
   "outputs": [
    {
     "name": "stdout",
     "output_type": "stream",
     "text": [
      "https://codalab.stanford.edu/bundles/0xb720e7932a924cdbbe19fec34ce993c6\r\n"
     ]
    }
   ],
   "source": [
    "!./launch.sh \"datadir=data/ python run_embed_lstm.py --task p --lr 1e-4\""
   ]
  },
  {
   "cell_type": "code",
   "execution_count": 40,
   "metadata": {
    "collapsed": false
   },
   "outputs": [
    {
     "name": "stdout",
     "output_type": "stream",
     "text": [
      "https://codalab.stanford.edu/bundles/0x23d4ebb9d05243dd9ce88e82bc922990\r\n"
     ]
    }
   ],
   "source": [
    "!./launch.sh \"datadir=data/ python run_embed_lstm.py --task v --lr 1e-4\""
   ]
  },
  {
   "cell_type": "markdown",
   "metadata": {},
   "source": [
    "# Else"
   ]
  },
  {
   "cell_type": "code",
   "execution_count": 46,
   "metadata": {
    "collapsed": false
   },
   "outputs": [
    {
     "name": "stdout",
     "output_type": "stream",
     "text": [
      "https://codalab.stanford.edu/bundles/0x35481a665955416084ac3ce567777c24\r\n"
     ]
    }
   ],
   "source": [
    "!cl run --request-docker-image codalab/python-cuda7.0-352.39:1.0 --request-gpus 1 \"THEANO_FLAGS=device=gpu,cuda.root=/usr/local/cuda-7.0 python -c 'import theano; print theano.__version__'\" | ./makelink"
   ]
  },
  {
   "cell_type": "code",
   "execution_count": 47,
   "metadata": {
    "collapsed": false
   },
   "outputs": [
    {
     "name": "stdout",
     "output_type": "stream",
     "text": [
      "https://codalab.stanford.edu/bundles/0x5ca2a88c4145434083b780e5cdd42cb4\r\n"
     ]
    }
   ],
   "source": [
    "!cl run --request-queue host=jagupard7 --request-docker-image codalab/python-cuda7.0-352.39:1.0 --request-gpus 1 \"THEANO_FLAGS=device=gpu,cuda.root=/usr/local/cuda-7.0 python -c 'import theano; print theano.__version__'\" | ./makelink"
   ]
  },
  {
   "cell_type": "code",
   "execution_count": 51,
   "metadata": {
    "collapsed": false
   },
   "outputs": [
    {
     "name": "stdout",
     "output_type": "stream",
     "text": [
      "https://codalab.stanford.edu/bundles/0xdbcce15a350946479328e084e636b6b4\r\n"
     ]
    }
   ],
   "source": [
    "!cl run  \"THEANO_FLAGS=device=gpu,cuda.root=/usr/local/cuda-7.0,floatX=float32 datadir=data/ python run_embed_bow.py --task cn\" | ./makelink"
   ]
  },
  {
   "cell_type": "code",
   "execution_count": 54,
   "metadata": {
    "collapsed": false
   },
   "outputs": [
    {
     "name": "stdout",
     "output_type": "stream",
     "text": [
      "https://codalab.stanford.edu/bundles/0xc172fb0f06db4a3c93bc64c93f004e01\r\n"
     ]
    }
   ],
   "source": [
    "!./launch-gpu.sh \"python run_embed_bow.py --task cn --lr 1e-3\""
   ]
  },
  {
   "cell_type": "code",
   "execution_count": null,
   "metadata": {
    "collapsed": true
   },
   "outputs": [],
   "source": []
  }
 ],
 "metadata": {
  "kernelspec": {
   "display_name": "Python 2",
   "language": "python",
   "name": "python2"
  },
  "language_info": {
   "codemirror_mode": {
    "name": "ipython",
    "version": 2
   },
   "file_extension": ".py",
   "mimetype": "text/x-python",
   "name": "python",
   "nbconvert_exporter": "python",
   "pygments_lexer": "ipython2",
   "version": "2.7.10"
  }
 },
 "nbformat": 4,
 "nbformat_minor": 0
}
