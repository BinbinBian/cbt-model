{
 "cells": [
  {
   "cell_type": "code",
   "execution_count": 16,
   "metadata": {
    "collapsed": false
   },
   "outputs": [
    {
     "name": "stdout",
     "output_type": "stream",
     "text": [
      "Switched to worksheet http://localhost:12800::cbtest(0x80491c5360374a5193b790c821627857).\n",
      "Uploading /Users/tianlins/Project/booktroll/cbt-model/cbtest to http://localhost:12800: 40k [done]\n",
      "0x90e380e514104b648d0e2ec37ef28dad\n",
      "Uploading /Users/tianlins/Project/booktroll/cbt-model/notebook/script to http://localhost:12800: 10k [done]\n",
      "0xbbf920ef14c249c98853d969815b2fec\n"
     ]
    }
   ],
   "source": [
    "!./sync.sh"
   ]
  },
  {
   "cell_type": "code",
   "execution_count": null,
   "metadata": {
    "collapsed": true
   },
   "outputs": [],
   "source": [
    "!cl run :data :cbtest :run_sliding_window.py \"datadir=data/ task=p python run_sliding_window.py\""
   ]
  },
  {
   "cell_type": "code",
   "execution_count": 3,
   "metadata": {
    "collapsed": false
   },
   "outputs": [
    {
     "name": "stdout",
     "output_type": "stream",
     "text": [
      "Switched to worksheet http://localhost:12800::cbtest(0x80491c5360374a5193b790c821627857).\r\n"
     ]
    }
   ],
   "source": [
    "!cl work nlp::cbtest"
   ]
  },
  {
   "cell_type": "code",
   "execution_count": 4,
   "metadata": {
    "collapsed": false
   },
   "outputs": [
    {
     "name": "stdout",
     "output_type": "stream",
     "text": [
      "0x94400e43a1fd487dab17c3ea8eecfa83\r\n"
     ]
    }
   ],
   "source": [
    "!cl run :data :cbtest :run_embed_bow.py \"datadir=data/ task=p python run_embed_bow.py\""
   ]
  },
  {
   "cell_type": "code",
   "execution_count": 6,
   "metadata": {
    "collapsed": false
   },
   "outputs": [
    {
     "name": "stdout",
     "output_type": "stream",
     "text": [
      "https://codalab.stanford.edu/bundles/0x94400e43a1fd487dab17c3ea8eecfa83\r\n"
     ]
    }
   ],
   "source": [
    "!echo 0x94400e43a1fd487dab17c3ea8eecfa83 | ./makelink"
   ]
  },
  {
   "cell_type": "markdown",
   "metadata": {},
   "source": [
    "## Direct Word Embedding + BOW"
   ]
  },
  {
   "cell_type": "code",
   "execution_count": 17,
   "metadata": {
    "collapsed": false
   },
   "outputs": [
    {
     "name": "stdout",
     "output_type": "stream",
     "text": [
      "https://codalab.stanford.edu/bundles/0xa6290ec5e84a40efba69627f7499cc91\r\n"
     ]
    }
   ],
   "source": [
    "!./launch.sh \"datadir=data/ python run_embed_bow.py --task cn\""
   ]
  },
  {
   "cell_type": "code",
   "execution_count": 19,
   "metadata": {
    "collapsed": false
   },
   "outputs": [
    {
     "name": "stdout",
     "output_type": "stream",
     "text": [
      "https://codalab.stanford.edu/bundles/0x293029c2f8ef44bbbc2faca5e28a5914\r\n"
     ]
    }
   ],
   "source": [
    "!./launch.sh \"datadir=data/ task=ne python run_embed_bow.py\""
   ]
  },
  {
   "cell_type": "code",
   "execution_count": 20,
   "metadata": {
    "collapsed": false
   },
   "outputs": [
    {
     "name": "stdout",
     "output_type": "stream",
     "text": [
      "https://codalab.stanford.edu/bundles/0x4db01f0650944fe0869751550a32be73\r\n"
     ]
    }
   ],
   "source": [
    "!./launch.sh \"datadir=data/ task=p python run_embed_bow.py\""
   ]
  },
  {
   "cell_type": "code",
   "execution_count": 21,
   "metadata": {
    "collapsed": false
   },
   "outputs": [
    {
     "name": "stdout",
     "output_type": "stream",
     "text": [
      "https://codalab.stanford.edu/bundles/0xb19d2b80720344efa46027e7c05f5e80\r\n"
     ]
    }
   ],
   "source": [
    "!./launch.sh \"datadir=data/ task=v python run_embed_bow.py\""
   ]
  },
  {
   "cell_type": "markdown",
   "metadata": {},
   "source": [
    "## LSTM Embedding"
   ]
  },
  {
   "cell_type": "code",
   "execution_count": 18,
   "metadata": {
    "collapsed": false
   },
   "outputs": [
    {
     "name": "stdout",
     "output_type": "stream",
     "text": [
      "https://codalab.stanford.edu/bundles/0xa4de193097f746ba85807fb05baf9b38\r\n"
     ]
    }
   ],
   "source": [
    "!./launch.sh \"datadir=data/ task=cn python run_embed_lstm.py\""
   ]
  },
  {
   "cell_type": "code",
   "execution_count": 22,
   "metadata": {
    "collapsed": false
   },
   "outputs": [
    {
     "name": "stdout",
     "output_type": "stream",
     "text": [
      "https://codalab.stanford.edu/bundles/0x990cae43d9344be0a23b5d3c344d7d1d\r\n"
     ]
    }
   ],
   "source": [
    "!./launch.sh \"datadir=data/ task=ne python run_embed_lstm.py\""
   ]
  },
  {
   "cell_type": "code",
   "execution_count": 23,
   "metadata": {
    "collapsed": false
   },
   "outputs": [
    {
     "name": "stdout",
     "output_type": "stream",
     "text": [
      "https://codalab.stanford.edu/bundles/0xcff7bc14a6904dfda7be0f0d46a581b2\r\n"
     ]
    }
   ],
   "source": [
    "!./launch.sh \"datadir=data/ task=p python run_embed_lstm.py\""
   ]
  },
  {
   "cell_type": "code",
   "execution_count": 24,
   "metadata": {
    "collapsed": false
   },
   "outputs": [
    {
     "name": "stdout",
     "output_type": "stream",
     "text": [
      "https://codalab.stanford.edu/bundles/0x60845c65e8fe492685dcf82aef879b35\r\n"
     ]
    }
   ],
   "source": [
    "!./launch.sh \"datadir=data/ task=v python run_embed_lstm.py\""
   ]
  }
 ],
 "metadata": {
  "kernelspec": {
   "display_name": "Python 2",
   "language": "python",
   "name": "python2"
  },
  "language_info": {
   "codemirror_mode": {
    "name": "ipython",
    "version": 2
   },
   "file_extension": ".py",
   "mimetype": "text/x-python",
   "name": "python",
   "nbconvert_exporter": "python",
   "pygments_lexer": "ipython2",
   "version": "2.7.10"
  }
 },
 "nbformat": 4,
 "nbformat_minor": 0
}
